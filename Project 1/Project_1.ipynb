{
 "cells": [
  {
   "cell_type": "markdown",
   "id": "234bad43",
   "metadata": {},
   "source": [
    "## Projeto 1\n",
    "### Alunos:\n",
    "* Pedro Henrique de A. Gomes\n",
    "* Isaac Neves Farias"
   ]
  },
  {
   "cell_type": "code",
   "execution_count": 30,
   "id": "3607c76e",
   "metadata": {},
   "outputs": [],
   "source": [
    "#Bibliotecas\n",
    "\n",
    "import numpy as np;\n",
    "import math, cmath;"
   ]
  },
  {
   "cell_type": "code",
   "execution_count": 39,
   "id": "5eda84b9",
   "metadata": {},
   "outputs": [
    {
     "name": "stdout",
     "output_type": "stream",
     "text": [
      "[0.00000000e+00 1.22070312e-04 2.44140625e-04 ... 9.99633789e-01\n",
      " 9.99755859e-01 9.99877930e-01]\n"
     ]
    }
   ],
   "source": [
    "#variaveis\n",
    "\n",
    "T=1/8192;\n",
    "Omega_s=2*math.pi/T;\n",
    "\n",
    "v_n = np.array(range(8192));\n",
    "# v = list(range(8192));\n",
    "t = v_n*T; #array de 8192 entradas de 0 a 1\n",
    "\n",
    "print(t);\n",
    "\n",
    "# \n",
    "\n",
    "# print(x_n)"
   ]
  },
  {
   "cell_type": "code",
   "execution_count": 50,
   "id": "1bc6470a",
   "metadata": {},
   "outputs": [
    {
     "ename": "TypeError",
     "evalue": "only size-1 arrays can be converted to Python scalars",
     "output_type": "error",
     "traceback": [
      "\u001b[1;31m---------------------------------------------------------------------------\u001b[0m",
      "\u001b[1;31mTypeError\u001b[0m                                 Traceback (most recent call last)",
      "\u001b[1;32m<ipython-input-50-4226e4e4aa78>\u001b[0m in \u001b[0;36m<module>\u001b[1;34m\u001b[0m\n\u001b[0;32m      1\u001b[0m \u001b[0mOmega_0\u001b[0m \u001b[1;33m=\u001b[0m \u001b[1;36m2\u001b[0m\u001b[1;33m*\u001b[0m\u001b[0mmath\u001b[0m\u001b[1;33m.\u001b[0m\u001b[0mpi\u001b[0m\u001b[1;33m*\u001b[0m\u001b[1;33m(\u001b[0m\u001b[1;36m1000\u001b[0m\u001b[1;33m)\u001b[0m\u001b[1;33m;\u001b[0m\u001b[1;33m\u001b[0m\u001b[1;33m\u001b[0m\u001b[0m\n\u001b[0;32m      2\u001b[0m \u001b[1;33m\u001b[0m\u001b[0m\n\u001b[1;32m----> 3\u001b[1;33m \u001b[0mx_n\u001b[0m\u001b[1;33m=\u001b[0m\u001b[0mmath\u001b[0m\u001b[1;33m.\u001b[0m\u001b[0msin\u001b[0m\u001b[1;33m(\u001b[0m\u001b[0mv_n\u001b[0m\u001b[1;33m*\u001b[0m\u001b[0mOmega_0\u001b[0m\u001b[1;33m/\u001b[0m\u001b[1;36m8192\u001b[0m\u001b[1;33m)\u001b[0m\u001b[1;33m;\u001b[0m\u001b[1;33m\u001b[0m\u001b[1;33m\u001b[0m\u001b[0m\n\u001b[0m\u001b[0;32m      4\u001b[0m \u001b[1;33m\u001b[0m\u001b[0m\n\u001b[0;32m      5\u001b[0m \u001b[0mprint\u001b[0m\u001b[1;33m(\u001b[0m\u001b[0mx_n\u001b[0m\u001b[1;33m)\u001b[0m\u001b[1;33m\u001b[0m\u001b[1;33m\u001b[0m\u001b[0m\n",
      "\u001b[1;31mTypeError\u001b[0m: only size-1 arrays can be converted to Python scalars"
     ]
    }
   ],
   "source": [
    "Omega_0 = 2*math.pi*(1000);\n",
    "\n",
    "print(x_n)"
   ]
  },
  {
   "cell_type": "code",
   "execution_count": null,
   "id": "960944c7",
   "metadata": {},
   "outputs": [],
   "source": []
  }
 ],
 "metadata": {
  "kernelspec": {
   "display_name": "Python 3",
   "language": "python",
   "name": "python3"
  },
  "language_info": {
   "codemirror_mode": {
    "name": "ipython",
    "version": 3
   },
   "file_extension": ".py",
   "mimetype": "text/x-python",
   "name": "python",
   "nbconvert_exporter": "python",
   "pygments_lexer": "ipython3",
   "version": "3.8.8"
  }
 },
 "nbformat": 4,
 "nbformat_minor": 5
}
